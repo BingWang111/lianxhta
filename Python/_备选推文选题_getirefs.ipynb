{
 "cells": [
  {
   "cell_type": "markdown",
   "id": "ef524a33",
   "metadata": {},
   "source": [
    "# 获取参考文献\n",
    "\n"
   ]
  },
  {
   "cell_type": "code",
   "execution_count": null,
   "id": "3295f871",
   "metadata": {},
   "outputs": [],
   "source": [
    "* 路径设定\n",
    "\n",
    "global path_PDF \"../PDF\"\n",
    "\n",
    "cd $path_PDF\n",
    "\n"
   ]
  },
  {
   "cell_type": "code",
   "execution_count": 2,
   "id": "36a7d1b1",
   "metadata": {},
   "outputs": [
    {
     "name": "stdout",
     "output_type": "stream",
     "text": [
      "  \n",
      "Sun, Z., & Wüthrich, K. (2025). Pairwise valid instruments. Journal of Economet\n",
      "> rics, 250, 106009.\n",
      "    Link    PDF    Google    \n",
      "\n",
      "Sun, Z., & Wüthrich, K. (2025). Pairwise valid instruments. Journal of Economet\n",
      "> rics, 250, 106009. [Link](https://doi.org/10.1016/j.jeconom.2025.106009), [PD\n",
      "> F](http://sci-hub.ren/10.1016/j.jeconom.2025.106009), [Google](<https://schol\n",
      "> ar.google.com/scholar?q=Pairwise valid instruments>).\n",
      " \n",
      "Tips: Text is on clipboard. Press 'Ctrl+V' to paste, ^-^\n",
      " \n",
      "Sun_2025_Pairwise_valid_instruments\n"
     ]
    }
   ],
   "source": [
    "local doi 10.1016/j.jeconom.2025.106009\n",
    "getiref `doi' , m dis"
   ]
  },
  {
   "cell_type": "markdown",
   "id": "ee85c84d",
   "metadata": {},
   "source": [
    "Sun, Z., & Wüthrich, K. (2025). Pairwise valid instruments. Journal of Econometrics, 250, 106009. [Link](https://doi.org/10.1016/j.jeconom.2025.106009), [PDF](http://sci-hub.ren/10.1016/j.jeconom.2025.106009), [Google](<https://scholar.google.com/scholar?q=Pairwise valid instruments>)."
   ]
  }
 ],
 "metadata": {
  "kernelspec": {
   "display_name": "Stata (nbstata)",
   "language": "stata",
   "name": "nbstata"
  },
  "language_info": {
   "file_extension": ".do",
   "mimetype": "text/x-stata",
   "name": "stata",
   "version": "17"
  }
 },
 "nbformat": 4,
 "nbformat_minor": 5
}
